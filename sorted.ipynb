{
 "cells": [
  {
   "cell_type": "code",
   "execution_count": 9,
   "metadata": {
    "collapsed": true,
    "pycharm": {
     "name": "#%%\n"
    }
   },
   "outputs": [
    {
     "name": "stdout",
     "output_type": "stream",
     "text": [
      "{'a': 2, 'c': 1, 'd': 10, 'g': -1}\n",
      "{'d': 10, 'a': 2, 'c': 1, 'g': -1}\n"
     ]
    }
   ],
   "source": [
    "d = {'c': 1, 'a': 2, 'd': 10, 'g': -1}\n",
    "print(dict(sorted(d.items())))  #По ключу\n",
    "print(dict(sorted(d.items(), key=lambda x: x[1], reverse=True)))  # По значению"
   ]
  },
  {
   "cell_type": "code",
   "execution_count": 8,
   "outputs": [
    {
     "name": "stdout",
     "output_type": "stream",
     "text": [
      "[-2, -1, 4, 5, 8, 11] (-2, -1, 4, 5, 8, 11)\n"
     ]
    }
   ],
   "source": [
    "s = '-2 -1 8 11 4 5 '\n",
    "lst = list(map(int, s.split()))\n",
    "lst.sort()\n",
    "tp_lst = tuple(sorted(list(map(int, s.split()))))\n",
    "print(lst, tp_lst)"
   ],
   "metadata": {
    "collapsed": false,
    "pycharm": {
     "name": "#%%\n"
    }
   }
  },
  {
   "cell_type": "code",
   "execution_count": 24,
   "outputs": [
    {
     "name": "stdout",
     "output_type": "stream",
     "text": [
      "['дерево', 'лошадь', 'собака', 'кот', 'книга']\n"
     ]
    }
   ],
   "source": [
    "d = {'cat': 'кот', 'horse': 'лошадь', 'tree': 'дерево', 'dog': 'собака', 'book': 'книга'}\n",
    "\n",
    "\n",
    "def get_sort(d):\n",
    "    return list((dict(sorted(d.items(), reverse=True))).values())\n",
    "\n",
    "\n",
    "print(get_sort(d))"
   ],
   "metadata": {
    "collapsed": false,
    "pycharm": {
     "name": "#%%\n"
    }
   }
  },
  {
   "cell_type": "code",
   "execution_count": null,
   "outputs": [],
   "source": [
    "s = sorted(set(map(int, '10 5 4 -3 2 0 5 10 3'.split())), reverse=True)\n",
    "print(*s[:4])"
   ],
   "metadata": {
    "collapsed": false,
    "pycharm": {
     "name": "#%%\n"
    }
   }
  },
  {
   "cell_type": "raw",
   "source": [
    "Подвиг 5. На вход программы поступают два списка целых чисел (каждый в отдельной строке), записанных в одну строчку через пробел. Длины списков могут быть разными. Необходимо первый список отсортировать по возрастанию, а второй - по убыванию. Полученные пары из обоих списков сложить друг с другом и получить новый список чисел. Результат вывести на экран в виде строки чисел через пробел.\n",
    "\n",
    "P. S. Подсказка: не забываем про функцию zip.\n",
    "\n",
    "Sample Input:\n",
    "\n",
    "7 6 4 2 6 7 9 10 4\n",
    "-4 5 10 4 5 65\n",
    "Sample Output:\n",
    "\n",
    "67 14 9 11 10 3"
   ],
   "metadata": {
    "collapsed": false,
    "pycharm": {
     "name": "#%% raw\n"
    }
   }
  },
  {
   "cell_type": "code",
   "execution_count": 48,
   "outputs": [
    {
     "name": "stdout",
     "output_type": "stream",
     "text": [
      "67 14 9 11 10 3\n"
     ]
    }
   ],
   "source": [
    "a = sorted(map(int, '7 6 4 2 6 7 9 10 4'.split()))\n",
    "b = sorted(map(int, '-4 5 10 4 5 65'.split()), reverse=True)\n",
    "s = map(sum, zip(a, b))\n",
    "print(*s)"
   ],
   "metadata": {
    "collapsed": false,
    "pycharm": {
     "name": "#%%\n"
    }
   }
  },
  {
   "cell_type": "raw",
   "source": [
    "Подвиг 6. На вход программы поступает список товаров в формате:\n",
    "\n",
    "название_1:цена_1\n",
    "...\n",
    "название_N:цена_N\n",
    "Необходимо преобразовать этот список в словарь, ключами которого выступают цены (целые числа), а значениями - соответствующие названия товаров. Необходимо написать функцию, которая бы принимала на входе словарь и возвращала список из наименований трех наиболее дешевых товаров.\n",
    "Вызовите эту функцию и отобразите на экране полученный список в порядке возрастания цены в одну строчку через пробел.\n",
    "P. S. Для считывания списка целиком в программе уже записаны начальные строчки.\n",
    "Sample Input:\n",
    "\n",
    "смартфон:120000\n",
    "яблоко:2\n",
    "сумка:560\n",
    "брюки:2500\n",
    "линейка:10\n",
    "бумага:500\n",
    "Sample Output:\n",
    "\n",
    "яблоко линейка бумага"
   ],
   "metadata": {
    "collapsed": false,
    "pycharm": {
     "name": "#%% raw\n"
    }
   }
  },
  {
   "cell_type": "code",
   "execution_count": 1,
   "outputs": [
    {
     "name": "stdout",
     "output_type": "stream",
     "text": [
      "яблоко линейка бумага\n"
     ]
    }
   ],
   "source": [
    "lst_in = ['смартфон:120000', 'яблоко:2', 'сумка:560', 'брюки:2500', 'линейка:10', 'бумага:500']\n",
    "d = {i.split(':')[0]: int(i.split(':')[1]) for i in lst_in}\n",
    "d = {a: int(b) for a, b in (i.split(':') for i in lst_in)}\n",
    "\n",
    "\n",
    "def sort_d(d):\n",
    "    sd_val = dict(sorted(d.items(), key=lambda x: x[1]))\n",
    "    return list(sd_val.keys())[:3]\n",
    "\n",
    "\n",
    "print(*(sort_d(d)))"
   ],
   "metadata": {
    "collapsed": false,
    "pycharm": {
     "name": "#%%\n"
    }
   }
  },
  {
   "cell_type": "raw",
   "source": [
    "Подвиг 2. На вход программы поступает строка в формате:\n",
    "\n",
    "предмет_1=вес_1\n",
    "...\n",
    "предмет_N=вес_N\n",
    "Веса предметов заданы целыми числами. Необходимо на основе этих данных сформировать словарь и, затем, на основе этого словаря сформировать список предметов по убыванию их веса. (В списке должны находиться только наименования предметов без их весов).\n",
    "Отобразить полученный результат в виде строки с названиями через пробел.\n",
    "P. S. Для считывания списка целиком в программе уже записаны начальные строчки.\n",
    "Sample Input:\n",
    "\n",
    "ножницы=100\n",
    "котелок=500\n",
    "спички=20\n",
    "зажигалка=40\n",
    "зеркальце=50\n",
    "Sample Output:\n",
    "\n",
    "котелок ножницы зеркальце зажигалка спички"
   ],
   "metadata": {
    "collapsed": false,
    "pycharm": {
     "name": "#%% raw\n"
    }
   }
  },
  {
   "cell_type": "code",
   "execution_count": 10,
   "outputs": [
    {
     "name": "stdout",
     "output_type": "stream",
     "text": [
      "котелок ножницы зеркальце зажигалка спички\n"
     ]
    }
   ],
   "source": [
    "lst_in = ['ножницы=100', 'котелок=500', 'спички=20', 'зажигалка=40', 'зеркальце=50']\n",
    "d = {a: int(b) for a, b in (i.split('=') for i in lst_in)}\n",
    "d = dict(sorted(d.items(), key=lambda x: x[1], reverse=True))\n",
    "print(*d.keys())"
   ],
   "metadata": {
    "collapsed": false,
    "pycharm": {
     "name": "#%%\n"
    }
   }
  },
  {
   "cell_type": "raw",
   "source": [
    "Подвиг 3. Известно, что порядок нот, следующий: до, ре, ми, фа, соль, ля, си. На вход программы поступает строка с набором этих нот, записанных через пробел. Необходимо сформировать список из входной строки с нотами, отсортированными указанным образом. Результат вывести в виде строки из нот, записанными через пробел.\n",
    "\n",
    "Sample Input:\n",
    "\n",
    "до фа соль до ре фа ля си\n",
    "Sample Output:\n",
    "\n",
    "до до ре фа фа соль ля си"
   ],
   "metadata": {
    "collapsed": false,
    "pycharm": {
     "name": "#%% raw\n"
    }
   }
  },
  {
   "cell_type": "code",
   "execution_count": 19,
   "outputs": [
    {
     "name": "stdout",
     "output_type": "stream",
     "text": [
      "['до', 'до', 'ре', 'фа', 'фа', 'соль', 'ля', 'си']\n"
     ]
    }
   ],
   "source": [
    "key_not = 'до, ре, ми, фа, соль, ля, си'.split(', ')\n",
    "lst_in = 'до фа соль до ре фа ля си'.split()\n",
    "print((sorted(lst_in, key=lambda x: key_not.index(x))))"
   ],
   "metadata": {
    "collapsed": false,
    "pycharm": {
     "name": "#%%\n"
    }
   }
  },
  {
   "cell_type": "raw",
   "source": [
    "Значимый подвиг 4. Имеется таблица с данными, представленная в формате:\n",
    "\n",
    "Номер;Имя;Оценка;Зачет\n",
    "1;Иванов;3;Да\n",
    "2;Петров;2;Нет\n",
    "...\n",
    "N;Балакирев;4;Да\n",
    "Эти данные необходимо представить в виде двумерного (вложенного) кортежа. Все числа должны быть представлены как целые числа. Затем, отсортировать данные так, чтобы столбцы шли в порядке:\n",
    "\n",
    "Имя;Зачет;Оценка;Номер\n",
    "Реализовать эту операцию с помощью сортировки. Результат должен быть представлен также в виде двумерного кортежа и присвоен переменной с именем t_sorted.\n",
    "\n",
    "Программа ничего не должна выводить на экран, только формировать двумерный кортеж с переменной t_sorted.\n",
    "\n",
    "P. S. Для считывания списка целиком в программе уже записаны начальные строчки.\n",
    "Sample Input:\n",
    "Номер;Имя;Оценка;Зачет\n",
    "1;Портос;5;Да\n",
    "2;Арамис;3;Да\n",
    "3;Атос;4;Да\n",
    "4;д'Артаньян;2;Нет\n",
    "5;Балакирев;1;Нет\n",
    "Sample Output:\n",
    "\n",
    "True"
   ],
   "metadata": {
    "collapsed": false,
    "pycharm": {
     "name": "#%% raw\n"
    }
   }
  },
  {
   "cell_type": "code",
   "execution_count": 59,
   "outputs": [
    {
     "name": "stdout",
     "output_type": "stream",
     "text": [
      "[['Номер', 'Имя', 'Оценка', 'Зачет'], [1, 'Портос', 5, 'Да'], [2, 'Арамис', 3, 'Да'], [3, 'Атос', 4, 'Да'], [4, \"д'Артаньян\", 2, 'Нет'], [5, 'Балакирев', 1, 'Нет']]\n",
      "('Номер', 1, 2, 3, 4, 5) ('Имя', 'Портос', 'Арамис', 'Атос', \"д'Артаньян\", 'Балакирев') ('Оценка', 5, 3, 4, 2, 1) ('Зачет', 'Да', 'Да', 'Да', 'Нет', 'Нет')\n"
     ]
    },
    {
     "data": {
      "text/plain": "(('Имя', 'Зачет', 'Оценка', 'Номер'),\n ('Портос', 'Да', 5, 1),\n ('Арамис', 'Да', 3, 2),\n ('Атос', 'Да', 4, 3),\n (\"д'Артаньян\", 'Нет', 2, 4),\n ('Балакирев', 'Нет', 1, 5))"
     },
     "execution_count": 59,
     "metadata": {},
     "output_type": "execute_result"
    }
   ],
   "source": [
    "sort_key = 'Имя;Зачет;Оценка;Номер'.split(';')\n",
    "lst_in = ['Номер;Имя;Оценка;Зачет', '1;Портос;5;Да', '2;Арамис;3;Да', '3;Атос;4;Да', \"4;д'Артаньян;2;Нет\",\n",
    "          '5;Балакирев;1;Нет']\n",
    "\n",
    "ls = [list(map(lambda x: x if not x.isdigit() else int(x), i.split(';'))) for i in lst_in]\n",
    "print(ls)\n",
    "# ls2 = [(j if not j.isdigit() else int(j))  for j in i) (for i in ls)]\n",
    "# print(ls2)\n",
    "\n",
    "print(*(zip(*ls)))\n",
    "sz = sorted(zip(*ls), key=lambda x: sort_key.index(x[0]))\n",
    "t_sort = tuple(zip(*sz))\n",
    "t_sort"
   ],
   "metadata": {
    "collapsed": false,
    "pycharm": {
     "name": "#%%\n"
    }
   }
  },
  {
   "cell_type": "raw",
   "source": [
    "Подвиг 5. Известно, что звания военнослужащих имеют следующий порядок:\n",
    "\n",
    "рядовой, сержант, старшина, прапорщик, лейтенант, капитан, майор, подполковник, полковник\n",
    "\n",
    "На вход поступает список военнослужащих в формате:\n",
    "\n",
    "имя_1=звание_1\n",
    "...\n",
    "имя_N=звание_N\n",
    "\n",
    "Необходимо входные данные представить в виде вложенного списка вида:\n",
    "\n",
    "[['имя_1', 'звание_1'], ['имя_2', 'звание_2'], ..., ['имя_N', 'звание_N']]\n",
    "Этот список присвоить переменной с именем lst. Затем, отсортировать его по возрастанию званий.\n",
    "Выводить на экран ничего не нужно, только сформировать список и указать на него переменную lst.\n",
    "\n",
    "P. S. Для считывания списка целиком в программе уже записаны начальные строчки.\n",
    "Sample Input:\n",
    "\n",
    "Атос=лейтенант\n",
    "Портос=прапорщик\n",
    "д'Артаньян=капитан\n",
    "Арамис=лейтенант\n",
    "Балакирев=рядовой\n",
    "Sample Output:\n",
    "\n",
    "True"
   ],
   "metadata": {
    "collapsed": false,
    "pycharm": {
     "name": "#%% raw\n"
    }
   }
  },
  {
   "cell_type": "code",
   "execution_count": 71,
   "outputs": [
    {
     "data": {
      "text/plain": "[['Балакирев', 'рядовой'],\n ['Портос', 'прапорщик'],\n ['Атос', 'лейтенант'],\n ['Арамис', 'лейтенант'],\n [\"д'Артаньян\", 'капитан']]"
     },
     "execution_count": 71,
     "metadata": {},
     "output_type": "execute_result"
    }
   ],
   "source": [
    "lst_in = ['Атос=лейтенант', 'Портос=прапорщик', \"д'Артаньян=капитан\",\n",
    "          'Арамис=лейтенант', 'Балакирев=рядовой']\n",
    "rank = ['рядовой', 'сержант', 'старшина', 'прапорщик', 'лейтенант',\n",
    "        'капитан', 'майор', 'подполковник', 'полковник']\n",
    "lst = sorted([i.split('=') for i in lst_in], key=lambda x: rank.index(x[1]))\n",
    "lst"
   ],
   "metadata": {
    "collapsed": false,
    "pycharm": {
     "name": "#%%\n"
    }
   }
  },
  {
   "cell_type": "code",
   "execution_count": 15,
   "outputs": [
    {
     "name": "stdout",
     "output_type": "stream",
     "text": [
      "{'43'} 1 sdf 0 0 0 0\n"
     ]
    }
   ],
   "source": [
    "ls = [0,0,{'43'},0,0,1,'sdf']\n",
    "\n",
    "\n",
    "def sort_ls(ls):\n",
    "    return sorted(ls, key=lambda x: x==0)\n",
    "\n",
    "\n",
    "print(*sort_ls(ls))"
   ],
   "metadata": {
    "collapsed": false,
    "pycharm": {
     "name": "#%%\n"
    }
   }
  }
 ],
 "metadata": {
  "kernelspec": {
   "display_name": "Python 3",
   "language": "python",
   "name": "python3"
  },
  "language_info": {
   "codemirror_mode": {
    "name": "ipython",
    "version": 2
   },
   "file_extension": ".py",
   "mimetype": "text/x-python",
   "name": "python",
   "nbconvert_exporter": "python",
   "pygments_lexer": "ipython2",
   "version": "2.7.6"
  }
 },
 "nbformat": 4,
 "nbformat_minor": 0
}